{
 "cells": [
  {
   "cell_type": "code",
   "execution_count": null,
   "id": "073a684a",
   "metadata": {},
   "outputs": [],
   "source": []
  },
  {
   "cell_type": "markdown",
   "id": "f3974fee",
   "metadata": {},
   "source": [
    "# RNN Air Passengers Data"
   ]
  },
  {
   "cell_type": "code",
   "execution_count": null,
   "id": "acde74b4",
   "metadata": {},
   "outputs": [],
   "source": []
  },
  {
   "cell_type": "code",
   "execution_count": null,
   "id": "2a9eb97f",
   "metadata": {},
   "outputs": [],
   "source": [
    "Dataset is airpassengers from keggle"
   ]
  },
  {
   "cell_type": "code",
   "execution_count": null,
   "id": "c6377e05",
   "metadata": {},
   "outputs": [],
   "source": []
  },
  {
   "cell_type": "code",
   "execution_count": null,
   "id": "71b03b64",
   "metadata": {},
   "outputs": [],
   "source": []
  },
  {
   "cell_type": "code",
   "execution_count": 37,
   "id": "5673c65e",
   "metadata": {},
   "outputs": [],
   "source": [
    "import numpy as np\n",
    "import math\n",
    "import pandas as pd\n",
    "import matplotlib.pyplot as plt\n",
    "%matplotlib inline\n",
    "from tensorflow.keras.models import Sequential\n",
    "from tensorflow.keras.layers import Dense"
   ]
  },
  {
   "cell_type": "code",
   "execution_count": 38,
   "id": "469bef41",
   "metadata": {},
   "outputs": [
    {
     "name": "stdout",
     "output_type": "stream",
     "text": [
      "     #Passengers\n",
      "0            112\n",
      "1            118\n",
      "2            132\n",
      "3            129\n",
      "4            121\n",
      "..           ...\n",
      "139          606\n",
      "140          508\n",
      "141          461\n",
      "142          390\n",
      "143          432\n",
      "\n",
      "[144 rows x 1 columns]\n"
     ]
    }
   ],
   "source": [
    "ap = pd.read_csv('AirPassengers.csv', usecols=[1], engine='python')\n",
    "print(ap)"
   ]
  },
  {
   "cell_type": "code",
   "execution_count": 39,
   "id": "7bfbfaf8",
   "metadata": {},
   "outputs": [
    {
     "data": {
      "image/png": "[encoded data removed]",
      "text/plain": [
       "<Figure size 432x288 with 1 Axes>"
      ]
     },
     "metadata": {
      "needs_background": "light"
     },
     "output_type": "display_data"
    }
   ],
   "source": [
    "plt.plot(ap)\n",
    "plt.show()"
   ]
  },
  {
   "cell_type": "code",
   "execution_count": null,
   "id": "c52c2e2c",
   "metadata": {},
   "outputs": [],
   "source": []
  },
  {
   "cell_type": "code",
   "execution_count": 40,
   "id": "bed3c622",
   "metadata": {},
   "outputs": [],
   "source": [
    "# load the dataset\n",
    "\n",
    "data = ap.values\n",
    "data = data.astype('float32')"
   ]
  },
  {
   "cell_type": "code",
   "execution_count": 41,
   "id": "0f6d0c3b",
   "metadata": {},
   "outputs": [
    {
     "name": "stdout",
     "output_type": "stream",
     "text": [
      "96 48\n"
     ]
    }
   ],
   "source": [
    "# split into train and test sets\n",
    "train_size = int(len(data) * 0.67)\n",
    "test_size = len(data) - train_size\n",
    "train, test = data[0:train_size,:], data[train_size:len(data),:]\n",
    "print(len(train), len(test))"
   ]
  },
  {
   "cell_type": "code",
   "execution_count": 42,
   "id": "399589fc",
   "metadata": {},
   "outputs": [],
   "source": [
    "# convert an array of values into a dataset matrix\n",
    "def create_data(data, look_back=1):\n",
    "    dataX, dataY = [], []\n",
    "    for i in range(len(data)-look_back-1):\n",
    "        a = data[i:(i+look_back), 0]\n",
    "        dataX.append(a)\n",
    "        dataY.append(data[i + look_back, 0])\n",
    "        return np.array(dataX), np.array(dataY)"
   ]
  },
  {
   "cell_type": "code",
   "execution_count": null,
   "id": "aa696652",
   "metadata": {},
   "outputs": [],
   "source": []
  },
  {
   "cell_type": "code",
   "execution_count": 43,
   "id": "d4f3bc2a",
   "metadata": {},
   "outputs": [],
   "source": [
    "# reshape into X=t and Y=t+1\n",
    "look_back = 1\n",
    "trainX, trainY = create_data(train, look_back)\n",
    "testX, testY = create_data(test, look_back)"
   ]
  },
  {
   "cell_type": "code",
   "execution_count": null,
   "id": "0a13701d",
   "metadata": {},
   "outputs": [],
   "source": []
  },
  {
   "cell_type": "code",
   "execution_count": 44,
   "id": "d947b104",
   "metadata": {},
   "outputs": [
    {
     "name": "stdout",
     "output_type": "stream",
     "text": [
      "Epoch 1/50\n",
      "1/1 - 0s - loss: 15326.9473 - 251ms/epoch - 251ms/step\n",
      "Epoch 2/50\n",
      "1/1 - 0s - loss: 13345.7842 - 2ms/epoch - 2ms/step\n",
      "Epoch 3/50\n",
      "1/1 - 0s - loss: 12817.2920 - 2ms/epoch - 2ms/step\n",
      "Epoch 4/50\n",
      "1/1 - 0s - loss: 12309.7275 - 2ms/epoch - 2ms/step\n",
      "Epoch 5/50\n",
      "1/1 - 0s - loss: 11822.2617 - 2ms/epoch - 2ms/step\n",
      "Epoch 6/50\n",
      "1/1 - 0s - loss: 11354.0996 - 2ms/epoch - 2ms/step\n",
      "Epoch 7/50\n",
      "1/1 - 0s - loss: 10904.4775 - 3ms/epoch - 3ms/step\n",
      "Epoch 8/50\n",
      "1/1 - 0s - loss: 10472.6611 - 8ms/epoch - 8ms/step\n",
      "Epoch 9/50\n",
      "1/1 - 0s - loss: 10057.9434 - 2ms/epoch - 2ms/step\n",
      "Epoch 10/50\n",
      "1/1 - 0s - loss: 9659.6484 - 3ms/epoch - 3ms/step\n",
      "Epoch 11/50\n",
      "1/1 - 0s - loss: 9277.1260 - 5ms/epoch - 5ms/step\n",
      "Epoch 12/50\n",
      "1/1 - 0s - loss: 8909.7529 - 3ms/epoch - 3ms/step\n",
      "Epoch 13/50\n",
      "1/1 - 0s - loss: 8556.9258 - 2ms/epoch - 2ms/step\n",
      "Epoch 14/50\n",
      "1/1 - 0s - loss: 8218.0713 - 4ms/epoch - 4ms/step\n",
      "Epoch 15/50\n",
      "1/1 - 0s - loss: 7892.6372 - 3ms/epoch - 3ms/step\n",
      "Epoch 16/50\n",
      "1/1 - 0s - loss: 7580.0889 - 3ms/epoch - 3ms/step\n",
      "Epoch 17/50\n",
      "1/1 - 0s - loss: 7279.9165 - 2ms/epoch - 2ms/step\n",
      "Epoch 18/50\n",
      "1/1 - 0s - loss: 6991.6323 - 3ms/epoch - 3ms/step\n",
      "Epoch 19/50\n",
      "1/1 - 0s - loss: 6714.7627 - 2ms/epoch - 2ms/step\n",
      "Epoch 20/50\n",
      "1/1 - 0s - loss: 6448.8574 - 2ms/epoch - 2ms/step\n",
      "Epoch 21/50\n",
      "1/1 - 0s - loss: 6193.4829 - 3ms/epoch - 3ms/step\n",
      "Epoch 22/50\n",
      "1/1 - 0s - loss: 5948.2207 - 2ms/epoch - 2ms/step\n",
      "Epoch 23/50\n",
      "1/1 - 0s - loss: 5712.6709 - 3ms/epoch - 3ms/step\n",
      "Epoch 24/50\n",
      "1/1 - 0s - loss: 5486.4497 - 8ms/epoch - 8ms/step\n",
      "Epoch 25/50\n",
      "1/1 - 0s - loss: 5269.1870 - 2ms/epoch - 2ms/step\n",
      "Epoch 26/50\n",
      "1/1 - 0s - loss: 5060.5273 - 996us/epoch - 996us/step\n",
      "Epoch 27/50\n",
      "1/1 - 0s - loss: 4860.1299 - 2ms/epoch - 2ms/step\n",
      "Epoch 28/50\n",
      "1/1 - 0s - loss: 4667.6694 - 8ms/epoch - 8ms/step\n",
      "Epoch 29/50\n",
      "1/1 - 0s - loss: 4482.8291 - 2ms/epoch - 2ms/step\n",
      "Epoch 30/50\n",
      "1/1 - 0s - loss: 4305.3101 - 2ms/epoch - 2ms/step\n",
      "Epoch 31/50\n",
      "1/1 - 0s - loss: 4134.8198 - 3ms/epoch - 3ms/step\n",
      "Epoch 32/50\n",
      "1/1 - 0s - loss: 3971.0806 - 7ms/epoch - 7ms/step\n",
      "Epoch 33/50\n",
      "1/1 - 0s - loss: 3813.8257 - 2ms/epoch - 2ms/step\n",
      "Epoch 34/50\n",
      "1/1 - 0s - loss: 3662.7983 - 3ms/epoch - 3ms/step\n",
      "Epoch 35/50\n",
      "1/1 - 0s - loss: 3517.7515 - 7ms/epoch - 7ms/step\n",
      "Epoch 36/50\n",
      "1/1 - 0s - loss: 3378.4482 - 2ms/epoch - 2ms/step\n",
      "Epoch 37/50\n",
      "1/1 - 0s - loss: 3244.6619 - 3ms/epoch - 3ms/step\n",
      "Epoch 38/50\n",
      "1/1 - 0s - loss: 3116.1731 - 8ms/epoch - 8ms/step\n",
      "Epoch 39/50\n",
      "1/1 - 0s - loss: 2992.7725 - 3ms/epoch - 3ms/step\n",
      "Epoch 40/50\n",
      "1/1 - 0s - loss: 2874.2588 - 2ms/epoch - 2ms/step\n",
      "Epoch 41/50\n",
      "1/1 - 0s - loss: 2760.4380 - 2ms/epoch - 2ms/step\n",
      "Epoch 42/50\n",
      "1/1 - 0s - loss: 2651.1248 - 6ms/epoch - 6ms/step\n",
      "Epoch 43/50\n",
      "1/1 - 0s - loss: 2546.1399 - 2ms/epoch - 2ms/step\n",
      "Epoch 44/50\n",
      "1/1 - 0s - loss: 2445.3127 - 1ms/epoch - 1ms/step\n",
      "Epoch 45/50\n",
      "1/1 - 0s - loss: 2348.4788 - 6ms/epoch - 6ms/step\n",
      "Epoch 46/50\n",
      "1/1 - 0s - loss: 2255.4790 - 3ms/epoch - 3ms/step\n",
      "Epoch 47/50\n",
      "1/1 - 0s - loss: 2166.1621 - 2ms/epoch - 2ms/step\n",
      "Epoch 48/50\n",
      "1/1 - 0s - loss: 2080.3821 - 2ms/epoch - 2ms/step\n",
      "Epoch 49/50\n",
      "1/1 - 0s - loss: 1997.9990 - 3ms/epoch - 3ms/step\n",
      "Epoch 50/50\n",
      "1/1 - 0s - loss: 1918.8781 - 2ms/epoch - 2ms/step\n"
     ]
    },
    {
     "data": {
      "text/plain": [
       "<keras.src.callbacks.History at 0x13b78010bb0>"
      ]
     },
     "execution_count": 44,
     "metadata": {},
     "output_type": "execute_result"
    }
   ],
   "source": [
    "model = Sequential()\n",
    "model.add(Dense(8, input_shape=(look_back,), activation='relu'))\n",
    "model.add(Dense(1))\n",
    "model.compile(loss='mean_squared_error', optimizer='sgd')\n",
    "model.fit(trainX, trainY, epochs=50, batch_size=2, verbose=2)"
   ]
  },
  {
   "cell_type": "code",
   "execution_count": null,
   "id": "44a49685",
   "metadata": {},
   "outputs": [],
   "source": []
  },
  {
   "cell_type": "code",
   "execution_count": 45,
   "id": "e3f2293f",
   "metadata": {},
   "outputs": [
    {
     "name": "stdout",
     "output_type": "stream",
     "text": [
      "Epoch 1/100\n",
      "1/1 - 0s - loss: 8173.1797 - 384ms/epoch - 384ms/step\n",
      "Epoch 2/100\n",
      "1/1 - 0s - loss: 8102.2290 - 3ms/epoch - 3ms/step\n",
      "Epoch 3/100\n",
      "1/1 - 0s - loss: 8031.4727 - 2ms/epoch - 2ms/step\n",
      "Epoch 4/100\n",
      "1/1 - 0s - loss: 7960.9126 - 3ms/epoch - 3ms/step\n",
      "Epoch 5/100\n",
      "1/1 - 0s - loss: 7890.5576 - 2ms/epoch - 2ms/step\n",
      "Epoch 6/100\n",
      "1/1 - 0s - loss: 7820.4116 - 3ms/epoch - 3ms/step\n",
      "Epoch 7/100\n",
      "1/1 - 0s - loss: 7750.4790 - 4ms/epoch - 4ms/step\n",
      "Epoch 8/100\n",
      "1/1 - 0s - loss: 7680.7642 - 3ms/epoch - 3ms/step\n",
      "Epoch 9/100\n",
      "1/1 - 0s - loss: 7611.2700 - 3ms/epoch - 3ms/step\n",
      "Epoch 10/100\n",
      "1/1 - 0s - loss: 7542.0024 - 2ms/epoch - 2ms/step\n",
      "Epoch 11/100\n",
      "1/1 - 0s - loss: 7472.9663 - 3ms/epoch - 3ms/step\n",
      "Epoch 12/100\n",
      "1/1 - 0s - loss: 7404.1646 - 4ms/epoch - 4ms/step\n",
      "Epoch 13/100\n",
      "1/1 - 0s - loss: 7335.6011 - 8ms/epoch - 8ms/step\n",
      "Epoch 14/100\n",
      "1/1 - 0s - loss: 7267.2803 - 2ms/epoch - 2ms/step\n",
      "Epoch 15/100\n",
      "1/1 - 0s - loss: 7199.2075 - 3ms/epoch - 3ms/step\n",
      "Epoch 16/100\n",
      "1/1 - 0s - loss: 7131.3833 - 0s/epoch - 0s/step\n",
      "Epoch 17/100\n",
      "1/1 - 0s - loss: 7063.8145 - 2ms/epoch - 2ms/step\n",
      "Epoch 18/100\n",
      "1/1 - 0s - loss: 6996.5044 - 2ms/epoch - 2ms/step\n",
      "Epoch 19/100\n",
      "1/1 - 0s - loss: 6929.4551 - 1ms/epoch - 1ms/step\n",
      "Epoch 20/100\n",
      "1/1 - 0s - loss: 6862.6699 - 29ms/epoch - 29ms/step\n",
      "Epoch 21/100\n",
      "1/1 - 0s - loss: 6796.1553 - 2ms/epoch - 2ms/step\n",
      "Epoch 22/100\n",
      "1/1 - 0s - loss: 6729.9106 - 5ms/epoch - 5ms/step\n",
      "Epoch 23/100\n",
      "1/1 - 0s - loss: 6663.9434 - 4ms/epoch - 4ms/step\n",
      "Epoch 24/100\n",
      "1/1 - 0s - loss: 6598.2529 - 2ms/epoch - 2ms/step\n",
      "Epoch 25/100\n",
      "1/1 - 0s - loss: 6532.8452 - 2ms/epoch - 2ms/step\n",
      "Epoch 26/100\n",
      "1/1 - 0s - loss: 6467.7207 - 8ms/epoch - 8ms/step\n",
      "Epoch 27/100\n",
      "1/1 - 0s - loss: 6402.8848 - 2ms/epoch - 2ms/step\n",
      "Epoch 28/100\n",
      "1/1 - 0s - loss: 6338.3403 - 2ms/epoch - 2ms/step\n",
      "Epoch 29/100\n",
      "1/1 - 0s - loss: 6274.0859 - 7ms/epoch - 7ms/step\n",
      "Epoch 30/100\n",
      "1/1 - 0s - loss: 6210.1309 - 3ms/epoch - 3ms/step\n",
      "Epoch 31/100\n",
      "1/1 - 0s - loss: 6146.4707 - 2ms/epoch - 2ms/step\n",
      "Epoch 32/100\n",
      "1/1 - 0s - loss: 6083.1133 - 3ms/epoch - 3ms/step\n",
      "Epoch 33/100\n",
      "1/1 - 0s - loss: 6020.0586 - 3ms/epoch - 3ms/step\n",
      "Epoch 34/100\n",
      "1/1 - 0s - loss: 5957.3105 - 2ms/epoch - 2ms/step\n",
      "Epoch 35/100\n",
      "1/1 - 0s - loss: 5894.8706 - 2ms/epoch - 2ms/step\n",
      "Epoch 36/100\n",
      "1/1 - 0s - loss: 5832.7422 - 2ms/epoch - 2ms/step\n",
      "Epoch 37/100\n",
      "1/1 - 0s - loss: 5770.9263 - 3ms/epoch - 3ms/step\n",
      "Epoch 38/100\n",
      "1/1 - 0s - loss: 5709.4238 - 3ms/epoch - 3ms/step\n",
      "Epoch 39/100\n",
      "1/1 - 0s - loss: 5648.2383 - 2ms/epoch - 2ms/step\n",
      "Epoch 40/100\n",
      "1/1 - 0s - loss: 5587.3730 - 3ms/epoch - 3ms/step\n",
      "Epoch 41/100\n",
      "1/1 - 0s - loss: 5526.8286 - 3ms/epoch - 3ms/step\n",
      "Epoch 42/100\n",
      "1/1 - 0s - loss: 5466.6074 - 2ms/epoch - 2ms/step\n",
      "Epoch 43/100\n",
      "1/1 - 0s - loss: 5406.7124 - 8ms/epoch - 8ms/step\n",
      "Epoch 44/100\n",
      "1/1 - 0s - loss: 5347.1406 - 2ms/epoch - 2ms/step\n",
      "Epoch 45/100\n",
      "1/1 - 0s - loss: 5287.8999 - 2ms/epoch - 2ms/step\n",
      "Epoch 46/100\n",
      "1/1 - 0s - loss: 5228.9883 - 2ms/epoch - 2ms/step\n",
      "Epoch 47/100\n",
      "1/1 - 0s - loss: 5170.4102 - 4ms/epoch - 4ms/step\n",
      "Epoch 48/100\n",
      "1/1 - 0s - loss: 5112.1650 - 2ms/epoch - 2ms/step\n",
      "Epoch 49/100\n",
      "1/1 - 0s - loss: 5054.2549 - 2ms/epoch - 2ms/step\n",
      "Epoch 50/100\n",
      "1/1 - 0s - loss: 4996.6816 - 7ms/epoch - 7ms/step\n",
      "Epoch 51/100\n",
      "1/1 - 0s - loss: 4939.4453 - 2ms/epoch - 2ms/step\n",
      "Epoch 52/100\n",
      "1/1 - 0s - loss: 4882.5518 - 2ms/epoch - 2ms/step\n",
      "Epoch 53/100\n",
      "1/1 - 0s - loss: 4825.9985 - 6ms/epoch - 6ms/step\n",
      "Epoch 54/100\n",
      "1/1 - 0s - loss: 4769.7871 - 3ms/epoch - 3ms/step\n",
      "Epoch 55/100\n",
      "1/1 - 0s - loss: 4713.9194 - 2ms/epoch - 2ms/step\n",
      "Epoch 56/100\n",
      "1/1 - 0s - loss: 4658.3979 - 2ms/epoch - 2ms/step\n",
      "Epoch 57/100\n",
      "1/1 - 0s - loss: 4603.2246 - 3ms/epoch - 3ms/step\n",
      "Epoch 58/100\n",
      "1/1 - 0s - loss: 4548.3989 - 5ms/epoch - 5ms/step\n",
      "Epoch 59/100\n",
      "1/1 - 0s - loss: 4493.9219 - 2ms/epoch - 2ms/step\n",
      "Epoch 60/100\n",
      "1/1 - 0s - loss: 4439.7954 - 2ms/epoch - 2ms/step\n",
      "Epoch 61/100\n",
      "1/1 - 0s - loss: 4386.0225 - 2ms/epoch - 2ms/step\n",
      "Epoch 62/100\n",
      "1/1 - 0s - loss: 4332.6006 - 5ms/epoch - 5ms/step\n",
      "Epoch 63/100\n",
      "1/1 - 0s - loss: 4279.5347 - 3ms/epoch - 3ms/step\n",
      "Epoch 64/100\n",
      "1/1 - 0s - loss: 4226.8213 - 8ms/epoch - 8ms/step\n",
      "Epoch 65/100\n",
      "1/1 - 0s - loss: 4174.4658 - 3ms/epoch - 3ms/step\n",
      "Epoch 66/100\n",
      "1/1 - 0s - loss: 4122.4683 - 0s/epoch - 0s/step\n",
      "Epoch 67/100\n",
      "1/1 - 0s - loss: 4070.8279 - 0s/epoch - 0s/step\n",
      "Epoch 68/100\n",
      "1/1 - 0s - loss: 4019.5476 - 12ms/epoch - 12ms/step\n",
      "Epoch 69/100\n",
      "1/1 - 0s - loss: 3968.6279 - 2ms/epoch - 2ms/step\n",
      "Epoch 70/100\n",
      "1/1 - 0s - loss: 3918.0693 - 3ms/epoch - 3ms/step\n",
      "Epoch 71/100\n",
      "1/1 - 0s - loss: 3867.8721 - 982us/epoch - 982us/step\n",
      "Epoch 72/100\n",
      "1/1 - 0s - loss: 3818.0391 - 8ms/epoch - 8ms/step\n",
      "Epoch 73/100\n",
      "1/1 - 0s - loss: 3768.5696 - 2ms/epoch - 2ms/step\n",
      "Epoch 74/100\n",
      "1/1 - 0s - loss: 3719.4644 - 0s/epoch - 0s/step\n",
      "Epoch 75/100\n",
      "1/1 - 0s - loss: 3670.7246 - 0s/epoch - 0s/step\n",
      "Epoch 76/100\n",
      "1/1 - 0s - loss: 3622.3511 - 11ms/epoch - 11ms/step\n",
      "Epoch 77/100\n",
      "1/1 - 0s - loss: 3574.3447 - 2ms/epoch - 2ms/step\n",
      "Epoch 78/100\n",
      "1/1 - 0s - loss: 3526.7063 - 2ms/epoch - 2ms/step\n",
      "Epoch 79/100\n",
      "1/1 - 0s - loss: 3479.4360 - 0s/epoch - 0s/step\n",
      "Epoch 80/100\n",
      "1/1 - 0s - loss: 3432.5347 - 0s/epoch - 0s/step\n",
      "Epoch 81/100\n",
      "1/1 - 0s - loss: 3386.0022 - 12ms/epoch - 12ms/step\n",
      "Epoch 82/100\n",
      "1/1 - 0s - loss: 3339.8403 - 3ms/epoch - 3ms/step\n",
      "Epoch 83/100\n",
      "1/1 - 0s - loss: 3294.0481 - 3ms/epoch - 3ms/step\n",
      "Epoch 84/100\n",
      "1/1 - 0s - loss: 3248.6287 - 0s/epoch - 0s/step\n",
      "Epoch 85/100\n",
      "1/1 - 0s - loss: 3203.5789 - 0s/epoch - 0s/step\n",
      "Epoch 86/100\n",
      "1/1 - 0s - loss: 3158.9023 - 2ms/epoch - 2ms/step\n",
      "Epoch 87/100\n",
      "1/1 - 0s - loss: 3114.5967 - 2ms/epoch - 2ms/step\n",
      "Epoch 88/100\n",
      "1/1 - 0s - loss: 3070.6655 - 0s/epoch - 0s/step\n",
      "Epoch 89/100\n",
      "1/1 - 0s - loss: 3027.1064 - 0s/epoch - 0s/step\n",
      "Epoch 90/100\n",
      "1/1 - 0s - loss: 2983.9207 - 12ms/epoch - 12ms/step\n",
      "Epoch 91/100\n",
      "1/1 - 0s - loss: 2941.1079 - 2ms/epoch - 2ms/step\n",
      "Epoch 92/100\n",
      "1/1 - 0s - loss: 2898.6704 - 1ms/epoch - 1ms/step\n",
      "Epoch 93/100\n",
      "1/1 - 0s - loss: 2856.6062 - 0s/epoch - 0s/step\n",
      "Epoch 94/100\n",
      "1/1 - 0s - loss: 2814.9165 - 0s/epoch - 0s/step\n",
      "Epoch 95/100\n",
      "1/1 - 0s - loss: 2773.5991 - 2ms/epoch - 2ms/step\n",
      "Epoch 96/100\n",
      "1/1 - 0s - loss: 2732.6567 - 3ms/epoch - 3ms/step\n",
      "Epoch 97/100\n",
      "1/1 - 0s - loss: 2692.0898 - 0s/epoch - 0s/step\n",
      "Epoch 98/100\n",
      "1/1 - 0s - loss: 2651.8955 - 0s/epoch - 0s/step\n",
      "Epoch 99/100\n",
      "1/1 - 0s - loss: 2612.0762 - 11ms/epoch - 11ms/step\n",
      "Epoch 100/100\n",
      "1/1 - 0s - loss: 2572.6316 - 2ms/epoch - 2ms/step\n"
     ]
    },
    {
     "data": {
      "text/plain": [
       "<keras.src.callbacks.History at 0x13b781831f0>"
      ]
     },
     "execution_count": 45,
     "metadata": {},
     "output_type": "execute_result"
    }
   ],
   "source": [
    "# create and fit Multilayer Perceptron model\n",
    "model = Sequential()\n",
    "model.add(Dense(8, input_shape=(look_back,), activation='relu'))\n",
    "model.add(Dense(1))\n",
    "model.compile(loss='mean_squared_error', optimizer='adam')\n",
    "model.fit(trainX, trainY, epochs=100, batch_size=2, verbose=2)"
   ]
  },
  {
   "cell_type": "code",
   "execution_count": null,
   "id": "1bca0baa",
   "metadata": {},
   "outputs": [],
   "source": []
  },
  {
   "cell_type": "code",
   "execution_count": 46,
   "id": "90ccf438",
   "metadata": {},
   "outputs": [
    {
     "name": "stdout",
     "output_type": "stream",
     "text": [
      "Train Score: 2533.56 MSE (50.33 RMSE)\n",
      "Test Score: 12350.71 MSE (111.13 RMSE)\n"
     ]
    }
   ],
   "source": [
    "# Estimate model performance\n",
    "trainScore = model.evaluate(trainX, trainY, verbose=0)\n",
    "print('Train Score: %.2f MSE (%.2f RMSE)' % (trainScore, math.sqrt(trainScore)))\n",
    "testScore = model.evaluate(testX, testY, verbose=0)\n",
    "print('Test Score: %.2f MSE (%.2f RMSE)' % (testScore, math.sqrt(testScore)))"
   ]
  },
  {
   "cell_type": "code",
   "execution_count": null,
   "id": "1231adf1",
   "metadata": {},
   "outputs": [],
   "source": []
  },
  {
   "cell_type": "code",
   "execution_count": 47,
   "id": "9976197e",
   "metadata": {},
   "outputs": [
    {
     "name": "stdout",
     "output_type": "stream",
     "text": [
      "1/1 [==============================] - 0s 40ms/step\n",
      "1/1 [==============================] - 0s 15ms/step\n"
     ]
    },
    {
     "data": {
      "image/png": "[encoded data removed]",
      "text/plain": [
       "<Figure size 432x288 with 1 Axes>"
      ]
     },
     "metadata": {
      "needs_background": "light"
     },
     "output_type": "display_data"
    }
   ],
   "source": [
    "\n",
    "...\n",
    "# generate predictions for training\n",
    "trainPredict = model.predict(trainX)\n",
    "testPredict = model.predict(testX)\n",
    "# shift train predictions for plotting\n",
    "trainPredictPlot = np.empty_like(data)\n",
    "trainPredictPlot[:, :] = np.nan\n",
    "trainPredictPlot[look_back:len(trainPredict)+look_back, :] = trainPredict\n",
    "# shift test predictions for plotting\n",
    "testPredictPlot = np.empty_like(data)\n",
    "testPredictPlot[:, :] = np.nan\n",
    "testPredictPlot[len(trainPredict)+(look_back*2)+1:len(data)-1, :] = testPredict\n",
    "# plot baseline and predictions\n",
    "plt.plot(data)\n",
    "plt.plot(trainPredictPlot)\n",
    "plt.plot(testPredictPlot)\n",
    "plt.show()"
   ]
  },
  {
   "cell_type": "code",
   "execution_count": null,
   "id": "59cdb903",
   "metadata": {},
   "outputs": [],
   "source": []
  }
 ],
 "metadata": {
  "kernelspec": {
   "display_name": "Python 3 (ipykernel)",
   "language": "python",
   "name": "python3"
  },
  "language_info": {
   "codemirror_mode": {
    "name": "ipython",
    "version": 3
   },
   "file_extension": ".py",
   "mimetype": "text/x-python",
   "name": "python",
   "nbconvert_exporter": "python",
   "pygments_lexer": "ipython3",
   "version": "3.9.12"
  }
 },
 "nbformat": 4,
 "nbformat_minor": 5
}
