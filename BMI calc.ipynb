{
 "cells": [
  {
   "cell_type": "markdown",
   "id": "e561fd1d",
   "metadata": {},
   "source": [
    "# BMI CALCULATOR"
   ]
  },
  {
   "cell_type": "code",
   "execution_count": null,
   "id": "51de1135",
   "metadata": {},
   "outputs": [],
   "source": []
  },
  {
   "cell_type": "code",
   "execution_count": 18,
   "id": "d31a3d10",
   "metadata": {},
   "outputs": [
    {
     "name": "stdout",
     "output_type": "stream",
     "text": [
      "Enter you name: Sow\n",
      "Enter your weight in kilograms: 34\n",
      "Enter your height in meter: 12\n",
      "0.2361111111111111\n",
      "Sow, You are underweight.\n"
     ]
    }
   ],
   "source": [
    "Name = input(\"Enter you name: \")\n",
    "Weight = int(input(\"Enter your weight in kilograms: \"))\n",
    "Height = int(input(\"Enter your height in meter: \"))\n",
    "BMI = (Weight) / (Height * Height)\n",
    "print(BMI)\n",
    "if BMI>0:\n",
    "    if(BMI<18.5):\n",
    "        print(Name +\", You are underweight.\")\n",
    "    elif (BMI<=24.9):\n",
    "        print(Name +\", You are normal weight.\")\n",
    "    elif (BMI<29.9):\n",
    "        print(Name +\", You are overweight. You need to exercise more.\")\n",
    "    elif (BMI<34.9):\n",
    "        print(name +\", You are obese.\")\n",
    "    elif (BMI<39.9):\n",
    "        print(Name +\", You are severely obese.\")\n",
    "    else:\n",
    "        print(Name +\", You are morbidly obese.\")\n",
    "else:\n",
    "    print(\"Enter valid input\")"
   ]
  },
  {
   "cell_type": "code",
   "execution_count": null,
   "id": "a0604912",
   "metadata": {},
   "outputs": [],
   "source": []
  }
 ],
 "metadata": {
  "kernelspec": {
   "display_name": "Python 3 (ipykernel)",
   "language": "python",
   "name": "python3"
  },
  "language_info": {
   "codemirror_mode": {
    "name": "ipython",
    "version": 3
   },
   "file_extension": ".py",
   "mimetype": "text/x-python",
   "name": "python",
   "nbconvert_exporter": "python",
   "pygments_lexer": "ipython3",
   "version": "3.9.12"
  }
 },
 "nbformat": 4,
 "nbformat_minor": 5
}
