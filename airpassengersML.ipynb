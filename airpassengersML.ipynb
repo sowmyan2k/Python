{
 "cells": [
  {
   "cell_type": "markdown",
   "id": "8ce92f38",
   "metadata": {},
   "source": [
    "# Air Passengers Prediction - Machine Learning"
   ]
  },
  {
   "cell_type": "code",
   "execution_count": null,
   "id": "5aaf899f",
   "metadata": {},
   "outputs": [],
   "source": []
  },
  {
   "cell_type": "code",
   "execution_count": null,
   "id": "09baa414",
   "metadata": {},
   "outputs": [],
   "source": []
  },
  {
   "cell_type": "code",
   "execution_count": 21,
   "id": "76b0cfe3",
   "metadata": {},
   "outputs": [],
   "source": [
    "import numpy as np\n",
    "import pandas as pd\n",
    "\n",
    "import datetime as dt\n",
    "import matplotlib.pyplot as plt\n",
    "%matplotlib inline\n",
    "import tensorflow as tf\n",
    "from sklearn.preprocessing import MinMaxScaler\n",
    "from sklearn.metrics import mean_squared_error\n",
    "from tensorflow.keras.models import Sequential\n",
    "from tensorflow.keras.layers import Dense, SimpleRNN, Dropout\n",
    "from tensorflow.keras.callbacks import ModelCheckpoint, EarlyStopping\n",
    "import warnings\n",
    "warnings.filterwarnings(\"ignore\")\n"
   ]
  },
  {
   "cell_type": "code",
   "execution_count": 22,
   "id": "c14aa218",
   "metadata": {},
   "outputs": [],
   "source": [
    "pd.set_option(\"display.max_columns\", None)\n",
    "pd.set_option(\"display.width\", 500)"
   ]
  },
  {
   "cell_type": "code",
   "execution_count": 23,
   "id": "4a40f23d",
   "metadata": {},
   "outputs": [],
   "source": [
    "import os\n",
    "os.environ[\"TF_CPP_MIN_LOG_LEVEL\"] = \"3\"\n",
    "tf.compat.v1.logging.set_verbosity(tf.compat.v1.logging.ERROR)"
   ]
  },
  {
   "cell_type": "code",
   "execution_count": 24,
   "id": "e86c044f",
   "metadata": {},
   "outputs": [
    {
     "name": "stdout",
     "output_type": "stream",
     "text": [
      "       Month  #Passengers\n",
      "0    1949-01          112\n",
      "1    1949-02          118\n",
      "2    1949-03          132\n",
      "3    1949-04          129\n",
      "4    1949-05          121\n",
      "..       ...          ...\n",
      "139  1960-08          606\n",
      "140  1960-09          508\n",
      "141  1960-10          461\n",
      "142  1960-11          390\n",
      "143  1960-12          432\n",
      "\n",
      "[144 rows x 2 columns]\n"
     ]
    }
   ],
   "source": [
    "#import dataset\n",
    "df = pd.read_csv('AirPassengers.csv')\n",
    "print(df)"
   ]
  },
  {
   "cell_type": "code",
   "execution_count": 25,
   "id": "8f5ac410",
   "metadata": {},
   "outputs": [
    {
     "data": {
      "text/html": [
       "<div>\n",
       "<style scoped>\n",
       "    .dataframe tbody tr th:only-of-type {\n",
       "        vertical-align: middle;\n",
       "    }\n",
       "\n",
       "    .dataframe tbody tr th {\n",
       "        vertical-align: top;\n",
       "    }\n",
       "\n",
       "    .dataframe thead th {\n",
       "        text-align: right;\n",
       "    }\n",
       "</style>\n",
       "<table border=\"1\" class=\"dataframe\">\n",
       "  <thead>\n",
       "    <tr style=\"text-align: right;\">\n",
       "      <th></th>\n",
       "      <th>Month</th>\n",
       "      <th>Passengers</th>\n",
       "    </tr>\n",
       "  </thead>\n",
       "  <tbody>\n",
       "    <tr>\n",
       "      <th>0</th>\n",
       "      <td>1949-01</td>\n",
       "      <td>112</td>\n",
       "    </tr>\n",
       "    <tr>\n",
       "      <th>1</th>\n",
       "      <td>1949-02</td>\n",
       "      <td>118</td>\n",
       "    </tr>\n",
       "    <tr>\n",
       "      <th>2</th>\n",
       "      <td>1949-03</td>\n",
       "      <td>132</td>\n",
       "    </tr>\n",
       "    <tr>\n",
       "      <th>3</th>\n",
       "      <td>1949-04</td>\n",
       "      <td>129</td>\n",
       "    </tr>\n",
       "    <tr>\n",
       "      <th>4</th>\n",
       "      <td>1949-05</td>\n",
       "      <td>121</td>\n",
       "    </tr>\n",
       "  </tbody>\n",
       "</table>\n",
       "</div>"
      ],
      "text/plain": [
       "     Month  Passengers\n",
       "0  1949-01         112\n",
       "1  1949-02         118\n",
       "2  1949-03         132\n",
       "3  1949-04         129\n",
       "4  1949-05         121"
      ]
     },
     "execution_count": 25,
     "metadata": {},
     "output_type": "execute_result"
    }
   ],
   "source": [
    "df.columns = [\"Month\", \"Passengers\"]\n",
    "df.head()"
   ]
  },
  {
   "cell_type": "code",
   "execution_count": null,
   "id": "32c2fb77",
   "metadata": {},
   "outputs": [],
   "source": []
  },
  {
   "cell_type": "code",
   "execution_count": 26,
   "id": "a8d5f444",
   "metadata": {},
   "outputs": [],
   "source": [
    "df[\"Month\"] = pd.to_datetime(df[\"Month\"])\n",
    "df.index = df[\"Month\"]\n",
    "df.drop(\"Month\", axis=1, inplace=True)\n",
    "data = df[\"Passengers\"].values\n",
    "data = data.astype(\"float32\")\n",
    "data = data.reshape(-1,1)"
   ]
  },
  {
   "cell_type": "code",
   "execution_count": 27,
   "id": "4dacbfd1",
   "metadata": {},
   "outputs": [
    {
     "data": {
      "text/html": [
       "<div>\n",
       "<style scoped>\n",
       "    .dataframe tbody tr th:only-of-type {\n",
       "        vertical-align: middle;\n",
       "    }\n",
       "\n",
       "    .dataframe tbody tr th {\n",
       "        vertical-align: top;\n",
       "    }\n",
       "\n",
       "    .dataframe thead th {\n",
       "        text-align: right;\n",
       "    }\n",
       "</style>\n",
       "<table border=\"1\" class=\"dataframe\">\n",
       "  <thead>\n",
       "    <tr style=\"text-align: right;\">\n",
       "      <th></th>\n",
       "      <th>Passengers</th>\n",
       "    </tr>\n",
       "    <tr>\n",
       "      <th>Month</th>\n",
       "      <th></th>\n",
       "    </tr>\n",
       "  </thead>\n",
       "  <tbody>\n",
       "    <tr>\n",
       "      <th>1949-01-01</th>\n",
       "      <td>112</td>\n",
       "    </tr>\n",
       "    <tr>\n",
       "      <th>1949-02-01</th>\n",
       "      <td>118</td>\n",
       "    </tr>\n",
       "    <tr>\n",
       "      <th>1949-03-01</th>\n",
       "      <td>132</td>\n",
       "    </tr>\n",
       "    <tr>\n",
       "      <th>1949-04-01</th>\n",
       "      <td>129</td>\n",
       "    </tr>\n",
       "    <tr>\n",
       "      <th>1949-05-01</th>\n",
       "      <td>121</td>\n",
       "    </tr>\n",
       "  </tbody>\n",
       "</table>\n",
       "</div>"
      ],
      "text/plain": [
       "            Passengers\n",
       "Month                 \n",
       "1949-01-01         112\n",
       "1949-02-01         118\n",
       "1949-03-01         132\n",
       "1949-04-01         129\n",
       "1949-05-01         121"
      ]
     },
     "execution_count": 27,
     "metadata": {},
     "output_type": "execute_result"
    }
   ],
   "source": [
    "df.head()"
   ]
  },
  {
   "cell_type": "code",
   "execution_count": 28,
   "id": "f56018b3",
   "metadata": {},
   "outputs": [
    {
     "data": {
      "text/plain": [
       "(144, 1)"
      ]
     },
     "execution_count": 28,
     "metadata": {},
     "output_type": "execute_result"
    }
   ],
   "source": [
    "data.shape"
   ]
  },
  {
   "cell_type": "code",
   "execution_count": null,
   "id": "d6181979",
   "metadata": {},
   "outputs": [],
   "source": [
    "#Train and test data --b. Divide the data into train and test set "
   ]
  },
  {
   "cell_type": "code",
   "execution_count": 29,
   "id": "b5b6b941",
   "metadata": {},
   "outputs": [],
   "source": [
    "def split_data(dataframe, test_size):\n",
    "  position = int(round(len(dataframe) * (1-test_size)))\n",
    "  train = dataframe[:position]\n",
    "  test = dataframe[position:]\n",
    "  return train, test, position"
   ]
  },
  {
   "cell_type": "code",
   "execution_count": 30,
   "id": "bc197090",
   "metadata": {},
   "outputs": [
    {
     "name": "stdout",
     "output_type": "stream",
     "text": [
      "Train shape: (96, 1)  Test shape: (48, 1)\n"
     ]
    }
   ],
   "source": [
    "train, test, position = split_data(df, 0.33)\n",
    "print(\"Train shape:\", train.shape, \" Test shape:\", test.shape)"
   ]
  },
  {
   "cell_type": "code",
   "execution_count": null,
   "id": "3847cddd",
   "metadata": {},
   "outputs": [],
   "source": [
    "#Encoding data"
   ]
  },
  {
   "cell_type": "code",
   "execution_count": 31,
   "id": "1b023070",
   "metadata": {},
   "outputs": [],
   "source": [
    "def encoding_scaling(train, test):\n",
    "  scaler_train = MinMaxScaler(feature_range=(0,1))\n",
    "  train = scaler_train.fit_transform(train)\n",
    "  scaler_test = MinMaxScaler(feature_range=(0,1))\n",
    "  test = scaler_test.fit_transform(test)\n",
    "  return scaler_train, train, scaler_test, test"
   ]
  },
  {
   "cell_type": "code",
   "execution_count": 32,
   "id": "5028bf52",
   "metadata": {},
   "outputs": [],
   "source": [
    "scaler_train, train, scaler_test, test  = encoding_scaling(train, test)"
   ]
  },
  {
   "cell_type": "code",
   "execution_count": 33,
   "id": "c1c8e9f7",
   "metadata": {},
   "outputs": [],
   "source": [
    "def create_features(data, lookback):\n",
    "  X, Y = [], []\n",
    "  for i in range(lookback, len(data)):\n",
    "    X.append(data[i-lookback:i,0])\n",
    "    Y.append(data[i,0])\n",
    "  return np.array(X), np.array(Y)"
   ]
  },
  {
   "cell_type": "code",
   "execution_count": 34,
   "id": "7cda0250",
   "metadata": {},
   "outputs": [
    {
     "name": "stdout",
     "output_type": "stream",
     "text": [
      "X_train shape: (95, 1)  y_train shape: (95,) \n",
      "X_test shape: (47, 1)  y_test shape:  (47,)\n"
     ]
    }
   ],
   "source": [
    "X_train, y_train = create_features(train, 1)\n",
    "X_test, y_test = create_features(test, 1)\n",
    "print(\"X_train shape:\", X_train.shape, \" y_train shape:\", y_train.shape, \"\\nX_test shape:\", X_test.shape, \" y_test shape: \", y_test.shape)"
   ]
  },
  {
   "cell_type": "code",
   "execution_count": 35,
   "id": "89c64726",
   "metadata": {},
   "outputs": [
    {
     "name": "stdout",
     "output_type": "stream",
     "text": [
      "X_train shape: (95, 1, 1)  y_train shape: (95, 1) \n",
      "X_test shape: (47, 1, 1)  y_test shape:  (47, 1)\n"
     ]
    }
   ],
   "source": [
    "X_train = np.reshape(X_train, (X_train.shape[0], 1, X_train.shape[1]))\n",
    "X_test = np.reshape(X_test, (X_test.shape[0], 1, X_test.shape[1]))\n",
    "y_train = y_train.reshape(-1,1)\n",
    "y_test = y_test.reshape(-1,1)\n",
    "print(\"X_train shape:\", X_train.shape, \" y_train shape:\", y_train.shape, \"\\nX_test shape:\", X_test.shape, \" y_test shape: \", y_test.shape)"
   ]
  },
  {
   "cell_type": "code",
   "execution_count": null,
   "id": "dd9e0cb3",
   "metadata": {},
   "outputs": [],
   "source": []
  },
  {
   "cell_type": "code",
   "execution_count": 36,
   "id": "a75dc27e",
   "metadata": {},
   "outputs": [],
   "source": [
    "def RNN_create_and_fit_model(X_train,y_train, X_test, y_test, lookback=1, epochs=50, summary=True, fit=True):\n",
    "  model = Sequential()\n",
    "  model.add(SimpleRNN(units=50, activation=\"relu\", input_shape=(X_train.shape[1], lookback)))\n",
    "  model.add(Dropout(0.2))\n",
    "  model.add(Dense(1))\n",
    "\n",
    "  model.compile(loss=\"mean_squared_error\", optimizer=\"adam\")\n",
    "  callbacks = [EarlyStopping(monitor=\"val_loss\", patience=3, verbose=1, mode=\"min\"), \n",
    "              ModelCheckpoint(filepath=\"mymodel.h5\", monitor=\"val_loss\", mode=\"min\", save_best_only=True, save_weights_only=False, verbose=1)]\n",
    "  \n",
    "  if summary:\n",
    "    model.summary()\n",
    "  \n",
    "  if fit:\n",
    "    history = model.fit(x=X_train, y=y_train, epochs=epochs, batch_size=1, \n",
    "                      validation_data=(X_test, y_test), callbacks=callbacks, shuffle=False)\n",
    "  \n",
    "  return model, history"
   ]
  },
  {
   "cell_type": "code",
   "execution_count": 37,
   "id": "52f9eb4f",
   "metadata": {},
   "outputs": [
    {
     "name": "stdout",
     "output_type": "stream",
     "text": [
      "Model: \"sequential\"\n",
      "_________________________________________________________________\n",
      " Layer (type)                Output Shape              Param #   \n",
      "=================================================================\n",
      " simple_rnn (SimpleRNN)      (None, 50)                2600      \n",
      "                                                                 \n",
      " dropout (Dropout)           (None, 50)                0         \n",
      "                                                                 \n",
      " dense (Dense)               (None, 1)                 51        \n",
      "                                                                 \n",
      "=================================================================\n",
      "Total params: 2651 (10.36 KB)\n",
      "Trainable params: 2651 (10.36 KB)\n",
      "Non-trainable params: 0 (0.00 Byte)\n",
      "_________________________________________________________________\n",
      "Epoch 1/50\n",
      "57/95 [=================>............] - ETA: 0s - loss: 0.0118  \n",
      "Epoch 1: val_loss improved from inf to 0.04062, saving model to mymodel.h5\n",
      "95/95 [==============================] - 1s 4ms/step - loss: 0.0145 - val_loss: 0.0406\n",
      "Epoch 2/50\n",
      "55/95 [================>.............] - ETA: 0s - loss: 0.0246\n",
      "Epoch 2: val_loss improved from 0.04062 to 0.02654, saving model to mymodel.h5\n",
      "95/95 [==============================] - 0s 2ms/step - loss: 0.0234 - val_loss: 0.0265\n",
      "Epoch 3/50\n",
      "49/95 [==============>...............] - ETA: 0s - loss: 0.0145\n",
      "Epoch 3: val_loss improved from 0.02654 to 0.02360, saving model to mymodel.h5\n",
      "95/95 [==============================] - 0s 2ms/step - loss: 0.0169 - val_loss: 0.0236\n",
      "Epoch 4/50\n",
      "46/95 [=============>................] - ETA: 0s - loss: 0.0085\n",
      "Epoch 4: val_loss improved from 0.02360 to 0.02086, saving model to mymodel.h5\n",
      "95/95 [==============================] - 0s 2ms/step - loss: 0.0090 - val_loss: 0.0209\n",
      "Epoch 5/50\n",
      "44/95 [============>.................] - ETA: 0s - loss: 0.0068\n",
      "Epoch 5: val_loss did not improve from 0.02086\n",
      "95/95 [==============================] - 0s 1ms/step - loss: 0.0115 - val_loss: 0.0211\n",
      "Epoch 6/50\n",
      "45/95 [=============>................] - ETA: 0s - loss: 0.0048\n",
      "Epoch 6: val_loss did not improve from 0.02086\n",
      "95/95 [==============================] - 0s 1ms/step - loss: 0.0097 - val_loss: 0.0225\n",
      "Epoch 7/50\n",
      "52/95 [===============>..............] - ETA: 0s - loss: 0.0045\n",
      "Epoch 7: val_loss did not improve from 0.02086\n",
      "95/95 [==============================] - 0s 2ms/step - loss: 0.0102 - val_loss: 0.0211\n",
      "Epoch 7: early stopping\n"
     ]
    }
   ],
   "source": [
    "model, history = RNN_create_and_fit_model(X_train,y_train, X_test, y_test)"
   ]
  },
  {
   "cell_type": "code",
   "execution_count": null,
   "id": "d0f7aa90",
   "metadata": {},
   "outputs": [],
   "source": []
  },
  {
   "cell_type": "code",
   "execution_count": 38,
   "id": "5daf2db3",
   "metadata": {},
   "outputs": [],
   "source": [
    "def RNN_model_evaluate(model):\n",
    "  loss = model.evaluate(X_test, y_test, batch_size=1)\n",
    "  print(\"Test Loss: %.2f\" % (100 * loss))\n",
    "  plt.figure(figsize=(10,5))\n",
    "  plt.plot(history.history[\"loss\"], color=\"r\", label=\"Training Loss\")\n",
    "  plt.plot(history.history[\"val_loss\"], color=\"b\", label=\"Validation Loss\")\n",
    "  plt.legend(loc=\"upper right\")\n",
    "  plt.xlabel(\"Epoch\", fontsize=16)\n",
    "  plt.ylabel(\"Loss\", fontsize=16)\n",
    "  plt.ylim([0, max(plt.ylim())])\n",
    "  plt.title(\"Training and Validation Loss\", fontsize=16);"
   ]
  },
  {
   "cell_type": "code",
   "execution_count": 39,
   "id": "1d8ec989",
   "metadata": {},
   "outputs": [
    {
     "name": "stdout",
     "output_type": "stream",
     "text": [
      "47/47 [==============================] - 0s 934us/step - loss: 0.0211\n",
      "Test Loss: 2.11\n"
     ]
    },
    {
     "data": {
      "image/png": "[encoded data removed]",
      "text/plain": [
       "<Figure size 720x360 with 1 Axes>"
      ]
     },
     "metadata": {
      "needs_background": "light"
     },
     "output_type": "display_data"
    }
   ],
   "source": [
    "RNN_model_evaluate(model)"
   ]
  },
  {
   "cell_type": "code",
   "execution_count": 40,
   "id": "086665a7",
   "metadata": {},
   "outputs": [],
   "source": [
    "def show_prediction(model, dataframe, X_train, X_test, y_train, y_test, lookback=1, plot=True):\n",
    "  train_predict = model.predict(X_train)\n",
    "  test_predict = model.predict(X_test)\n",
    "  train_predict = scaler_train.inverse_transform(train_predict)\n",
    "  test_predict = scaler_test.inverse_transform(test_predict) \n",
    "  y_train = scaler_train.inverse_transform(y_train)\n",
    "  y_test = scaler_test.inverse_transform(y_test)\n",
    "  RMSE_train = np.sqrt(mean_squared_error(y_train, train_predict))\n",
    "  RMSE_test = np.sqrt(mean_squared_error(y_test, test_predict))\n",
    "  print(\"############### Loss ###############\")\n",
    "  print(\"RMSE Train: \", RMSE_train, \"\\nRMSE Test: \", RMSE_test)\n",
    "\n",
    "  train_prediction_df = dataframe[lookback:position]\n",
    "  train_prediction_df[\"Predicted\"] = train_predict\n",
    "  print(\"############### Train Predictoion Head ###############\")\n",
    "  print(train_prediction_df.head())\n",
    "\n",
    "  test_prediction_df = dataframe[position+lookback:]\n",
    "  test_prediction_df[\"Predicted\"] = test_predict\n",
    "  print(\"############### Test Predictoion Head ###############\")\n",
    "  print(test_prediction_df.head())\n",
    "\n",
    "  if plot:\n",
    "    plt.figure(figsize=(14,5))\n",
    "    plt.plot(dataframe, label=\"Real Number of Passengers\")\n",
    "    plt.plot(train_prediction_df[\"Predicted\"], color=\"blue\", label=\"Train Predicted Number of Passengers\")\n",
    "    plt.plot(test_prediction_df[\"Predicted\"], color=\"red\", label=\"Test Predicted Number of Passengers\")\n",
    "    plt.title(\"Number of Passengers Prediction\")\n",
    "    plt.xlabel(\"Time\")\n",
    "    plt.ylabel(\"Number of Passengers\")\n",
    "    plt.legend()\n",
    "    plt.show()"
   ]
  },
  {
   "cell_type": "code",
   "execution_count": 41,
   "id": "051369dc",
   "metadata": {},
   "outputs": [
    {
     "name": "stdout",
     "output_type": "stream",
     "text": [
      "3/3 [==============================] - 0s 1ms/step\n",
      "2/2 [==============================] - 0s 997us/step\n",
      "############### Loss ###############\n",
      "RMSE Train:  24.03499654111205 \n",
      "RMSE Test:  46.68095719368427\n",
      "############### Train Predictoion Head ###############\n",
      "            Passengers   Predicted\n",
      "Month                             \n",
      "1949-02-01         118  132.608337\n",
      "1949-03-01         132  135.795181\n",
      "1949-04-01         129  147.826981\n",
      "1949-05-01         121  145.058884\n",
      "1949-06-01         135  137.724045\n",
      "############### Test Predictoion Head ###############\n",
      "            Passengers   Predicted\n",
      "Month                             \n",
      "1957-02-01         301  333.699432\n",
      "1957-03-01         356  326.388794\n",
      "1957-04-01         348  370.438599\n",
      "1957-05-01         355  363.057007\n",
      "1957-06-01         422  369.515930\n"
     ]
    },
    {
     "data": {
      "image/png": "[encoded data removed]",
      "text/plain": [
       "<Figure size 1008x360 with 1 Axes>"
      ]
     },
     "metadata": {
      "needs_background": "light"
     },
     "output_type": "display_data"
    }
   ],
   "source": [
    "show_prediction(model, df, X_train, X_test, y_train, y_test)"
   ]
  },
  {
   "cell_type": "code",
   "execution_count": null,
   "id": "7b520bfb",
   "metadata": {},
   "outputs": [],
   "source": []
  }
 ],
 "metadata": {
  "kernelspec": {
   "display_name": "Python 3 (ipykernel)",
   "language": "python",
   "name": "python3"
  },
  "language_info": {
   "codemirror_mode": {
    "name": "ipython",
    "version": 3
   },
   "file_extension": ".py",
   "mimetype": "text/x-python",
   "name": "python",
   "nbconvert_exporter": "python",
   "pygments_lexer": "ipython3",
   "version": "3.9.12"
  }
 },
 "nbformat": 4,
 "nbformat_minor": 5
}
